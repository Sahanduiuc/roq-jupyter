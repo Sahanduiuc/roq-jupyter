{
 "cells": [
  {
   "cell_type": "markdown",
   "metadata": {},
   "source": [
    "# Simple\n",
    "\n",
    "Demonstrates some of the complexities involved with implementing a very simple trading strategy."
   ]
  },
  {
   "cell_type": "code",
   "execution_count": 1,
   "metadata": {},
   "outputs": [],
   "source": [
    "%matplotlib inline"
   ]
  },
  {
   "cell_type": "markdown",
   "metadata": {},
   "source": [
    "## Configuration"
   ]
  },
  {
   "cell_type": "code",
   "execution_count": 2,
   "metadata": {},
   "outputs": [],
   "source": [
    "HISTORY = 'USTP_Multi_20180223.csv'  # provided by the roq-data package, needed by the simulator"
   ]
  },
  {
   "cell_type": "code",
   "execution_count": 3,
   "metadata": {},
   "outputs": [],
   "source": [
    "ACCOUNT = 'A1'                       # trading account"
   ]
  },
  {
   "cell_type": "code",
   "execution_count": 4,
   "metadata": {},
   "outputs": [],
   "source": [
    "EXCHANGE = 'CFFEX'                   # China Financial Futures EXchange\n",
    "SYMBOL = 'IC1803'                    # the most liquid instrument (on that specific trading day)"
   ]
  },
  {
   "cell_type": "markdown",
   "metadata": {},
   "source": [
    "## Boilerplate"
   ]
  },
  {
   "cell_type": "code",
   "execution_count": 5,
   "metadata": {},
   "outputs": [],
   "source": [
    "def milliseconds(ms):\n",
    "    \"\"\" Helper function to create a duration. \"\"\"\n",
    "    import datetime\n",
    "    return datetime.timedelta(milliseconds=ms)"
   ]
  },
  {
   "cell_type": "code",
   "execution_count": 6,
   "metadata": {},
   "outputs": [],
   "source": [
    "def get_data_path(filename):\n",
    "    \"\"\" Helper function to work out the full path for an installed example dataset. \"\"\"\n",
    "    import os\n",
    "    return os.path.join(\n",
    "        os.environ['CONDA_DIR'],\n",
    "        *'share/roq/data'.split('/'),\n",
    "        filename)"
   ]
  },
  {
   "cell_type": "markdown",
   "metadata": {},
   "source": [
    "## Roq"
   ]
  },
  {
   "cell_type": "code",
   "execution_count": 7,
   "metadata": {},
   "outputs": [],
   "source": [
    "import roq"
   ]
  },
  {
   "cell_type": "markdown",
   "metadata": {},
   "source": [
    "## Strategy\n",
    "\n",
    "The strategy implementation implements event handling: processing may change state.\n",
    "\n",
    "Example:\n",
    "It should not be possible to create orders unless the market status has been received and it's open for trading."
   ]
  },
  {
   "cell_type": "code",
   "execution_count": 8,
   "metadata": {},
   "outputs": [],
   "source": [
    "class Strategy(roq.client.Handler):\n",
    "    \"\"\"\n",
    "    A simple strategy implementing the client interface.\n",
    "    \"\"\"\n",
    "\n",
    "    def __init__(\n",
    "            self,\n",
    "            account: str,\n",
    "            exchange: str,\n",
    "            symbol: str,\n",
    "            logger):\n",
    "        \"\"\"\n",
    "        Constructor\n",
    "        \"\"\"\n",
    "        roq.client.Handler.__init__(self)  # important! see pybind11 doc\n",
    "        self.account = account\n",
    "        self.exchange = exchange\n",
    "        self.symbol = symbol\n",
    "        self.logger = logger\n",
    "        self.counter = 0\n",
    "        self.order_id = 0\n",
    "        self.downloading = False\n",
    "        self.order_manager_ready = False\n",
    "        self.market_data_ready = False\n",
    "        self.market_open = False\n",
    "\n",
    "    def on_connection_status(\n",
    "            self,\n",
    "            source: int,\n",
    "            source_name: str,\n",
    "            connection_status: roq.ConnectionStatus):\n",
    "        \"\"\" Event handler \"\"\"\n",
    "        if connection_status == roq.ConnectionStatus.CONNECTED:\n",
    "            self.logger('Connected')\n",
    "            self.subscribe(\n",
    "                accounts={\n",
    "                    self.account,\n",
    "                },\n",
    "                symbols_by_exchange={\n",
    "                    self.exchange: {\n",
    "                        self.symbol,\n",
    "                    },\n",
    "                },\n",
    "                source=source)\n",
    "        elif connection_status == roq.ConnectionStatus.DISCONNECTED:\n",
    "            self.logger('Disconnected')\n",
    "            self.order_manager_ready = False\n",
    "            self.market_data_ready = False\n",
    "            self.market_open = False\n",
    "\n",
    "    def on_market_data_status(\n",
    "            self,\n",
    "            message_info: roq.MessageInfo,\n",
    "            market_data_status: roq.MarketDataStatus):\n",
    "        \"\"\" Event handler \"\"\"\n",
    "        if market_data_status.status == roq.GatewayStatus.READY:\n",
    "            self.logger('Market data is ready')\n",
    "            self.market_data_ready = True\n",
    "        elif market_data_status.status == roq.GatewayStatus.READY:\n",
    "            self.logger('Market data is *not* ready')\n",
    "            self.market_data_ready = False\n",
    "            self.market_open = False\n",
    "\n",
    "    def on_order_manager_status(\n",
    "            self,\n",
    "            message_info: roq.MessageInfo,\n",
    "            order_manager_status: roq.OrderManagerStatus):\n",
    "        \"\"\" Event handler \"\"\"\n",
    "        if order_manager_status.account != self.account:\n",
    "            return\n",
    "        if order_manager_status.status == roq.GatewayStatus.READY:\n",
    "            self.logger('Order manager is ready')\n",
    "            self.order_manager_ready = True\n",
    "        elif order_manager_status.status == roq.GatewayStatus.READY:\n",
    "            self.logger('Order manager is *not* ready')\n",
    "            self.order_manager_ready = False\n",
    "\n",
    "    def on_download_begin(\n",
    "            self,\n",
    "            message_info: roq.MessageInfo,\n",
    "            download_begin: roq.DownloadBegin):\n",
    "        \"\"\" Event handler \"\"\"\n",
    "        self.downloading = True\n",
    "        if len(download_begin.account) == 0:\n",
    "            self.logger('Downloading market data ...')\n",
    "        elif download_begin.account == self.account:\n",
    "            self.logger('Downloading order manager data ...')\n",
    "\n",
    "    def on_download_end(\n",
    "            self,\n",
    "            message_info: roq.MessageInfo,\n",
    "            download_end: roq.DownloadEnd):\n",
    "        \"\"\" Event handler \"\"\"\n",
    "        self.downloading = False\n",
    "        if len(download_end.account) == 0:\n",
    "            self.logger('Market data download has completed')\n",
    "        elif download_end.account == self.account:\n",
    "            self.logger('Order manager download has completed')\n",
    "            if download_end.max_order_id > self.order_id:\n",
    "                self.order_id = download_end.max_order_id\n",
    "                self.logger('Update: order_id={}'.format(self.order_id))\n",
    "\n",
    "    def on_reference_data(\n",
    "            self,\n",
    "            message_info: roq.MessageInfo,\n",
    "            reference_data: roq.ReferenceData):\n",
    "        \"\"\" Event handler \"\"\"\n",
    "        pass\n",
    "\n",
    "    def on_market_status(\n",
    "            self,\n",
    "            message_info: roq.MessageInfo,\n",
    "            market_status: roq.MarketStatus):\n",
    "        \"\"\" Event handler \"\"\"\n",
    "        if market_status.trading_status == roq.TradingStatus.OPEN:\n",
    "            self.logger('Market is open for trading')\n",
    "            self.market_open = True\n",
    "        else:\n",
    "            self.logger('Market is *not* open for trading')\n",
    "            self.market_open = False\n",
    "\n",
    "    def on_market_by_price(\n",
    "            self,\n",
    "            message_info: roq.MessageInfo,\n",
    "            market_by_price: roq.MarketByPrice):\n",
    "        \"\"\" Event handler \"\"\"\n",
    "        pass\n",
    "\n",
    "    def on_trade_summary(\n",
    "            self,\n",
    "            message_info: roq.MessageInfo,\n",
    "            trade_summary: roq.TradeSummary):\n",
    "        \"\"\" Event handler \"\"\"\n",
    "        self.counter += 1\n",
    "        if self.counter < 20:\n",
    "            self.logger('TradeSummary: time={} price={}'.format(\n",
    "                int(message_info.source_receive_time.total_seconds() * 1e9),\n",
    "                trade_summary.price))\n",
    "        if self.counter == 9:\n",
    "            self._create_order(\n",
    "                side=roq.Side.BUY,\n",
    "                quantity=1,\n",
    "                limit_price=trade_summary.price,\n",
    "                position_effect=roq.PositionEffect.OPEN,\n",
    "                order_template=\"GTC\"\n",
    "            )\n",
    "        if self.counter == 20:\n",
    "            self._create_order(\n",
    "                side=roq.Side.SELL,\n",
    "                quantity=1,\n",
    "                limit_price=trade_summary.price,\n",
    "                position_effect=roq.PositionEffect.CLOSE,\n",
    "                order_template=\"GTC\"\n",
    "            )\n",
    "            \n",
    "    def on_position_update(\n",
    "            self,\n",
    "            message_info: roq.MessageInfo,\n",
    "            position_update: roq.PositionUpdate):\n",
    "        \"\"\" Event handler \"\"\"\n",
    "        pass\n",
    "\n",
    "    def on_order_update(\n",
    "            self,\n",
    "            message_info: roq.MessageInfo,\n",
    "            order_update: roq.OrderUpdate):\n",
    "        \"\"\" Event handler \"\"\"\n",
    "        self.logger('OrderUpdate: order_id={} order_status={} remaining_quantity={}'.format(\n",
    "            order_update.order_id, order_update.order_status, order_update.remaining_quantity))\n",
    "\n",
    "    def on_trade_update(\n",
    "            self,\n",
    "            message_info: roq.MessageInfo,\n",
    "            trade_update: roq.TradeUpdate):\n",
    "        \"\"\" Event handler \"\"\"\n",
    "        self.logger('TradeUpdate: trade_id={} order_id={} side={} quantity={} price={}'.format(\n",
    "            trade_update.trade_id, trade_update.order_id, trade_update.side, trade_update.quantity, trade_update.price))\n",
    "\n",
    "    def on_create_order_ack(\n",
    "            self,\n",
    "            message_info: roq.MessageInfo,\n",
    "            create_order_ack: roq.CreateOrderAck):\n",
    "        \"\"\" Event handler \"\"\"\n",
    "        self.logger('CreateOrderAck: order_id={} failure={} reason={}'.format(\n",
    "            create_order_ack.order_id, create_order_ack.failure, create_order_ack.reason))\n",
    "\n",
    "    def on_modify_order_ack(\n",
    "            self,\n",
    "            message_info: roq.MessageInfo,\n",
    "            modify_order_ack: roq.ModifyOrderAck):\n",
    "        \"\"\" Event handler \"\"\"\n",
    "        pass\n",
    "\n",
    "    def on_cancel_order_ack(\n",
    "            self,\n",
    "            message_info: roq.MessageInfo,\n",
    "            cancel_order_ack: roq.CancelOrderAck):\n",
    "        \"\"\" Event handler \"\"\"\n",
    "        pass\n",
    "    \n",
    "    def _create_order(\n",
    "            self,\n",
    "            side: roq.Side,\n",
    "            quantity: float,\n",
    "            limit_price: float,\n",
    "            position_effect: roq.PositionEffect,\n",
    "            order_template: str):\n",
    "        \"\"\" Utility function to create orders. \"\"\"\n",
    "        if self.downloading or not self.market_open or not self.order_manager_ready:\n",
    "            self.logger('Can *not* trade!')\n",
    "            return\n",
    "        self.order_id += 1\n",
    "        self.logger('CreateOrder: order_id={} side={} quantity={} limit_price={}'.format(\n",
    "             self.order_id, side, quantity, limit_price))\n",
    "        try:\n",
    "            self.create_order(\n",
    "                account=self.account,\n",
    "                order_id=self.order_id,\n",
    "                exchange=self.exchange,\n",
    "                symbol=self.symbol,\n",
    "                side=side,\n",
    "                quantity=quantity,\n",
    "                order_type=roq.OrderType.LIMIT,\n",
    "                limit_price=limit_price,\n",
    "                time_in_force=roq.TimeInForce.GTC,\n",
    "                position_effect=position_effect,\n",
    "                order_template=order_template,\n",
    "                source=0)\n",
    "            return self.order_id\n",
    "        except roq.NotReady:\n",
    "            pass  # a hint: likely you're not correctly tracking the 'ready' state\n",
    "        except roq.NotConnected:\n",
    "            pass  # always a possibility"
   ]
  },
  {
   "cell_type": "markdown",
   "metadata": {},
   "source": [
    "## Simulation"
   ]
  },
  {
   "cell_type": "code",
   "execution_count": 9,
   "metadata": {},
   "outputs": [],
   "source": [
    "simulator = roq.client.Simulator(\n",
    "    connections=[get_data_path(HISTORY),],\n",
    "    sample_frequency=milliseconds(1),\n",
    "    market_data_latency=milliseconds(100),\n",
    "    order_manager_latency=milliseconds(500))"
   ]
  },
  {
   "cell_type": "code",
   "execution_count": 10,
   "metadata": {},
   "outputs": [],
   "source": [
    "kwargs = dict(\n",
    "    account=ACCOUNT,\n",
    "    exchange=EXCHANGE,\n",
    "    symbol=SYMBOL\n",
    ")"
   ]
  },
  {
   "cell_type": "markdown",
   "metadata": {},
   "source": [
    "### ... with some logging"
   ]
  },
  {
   "cell_type": "code",
   "execution_count": 11,
   "metadata": {},
   "outputs": [
    {
     "name": "stdout",
     "output_type": "stream",
     "text": [
      "Connected\n",
      "Downloading order manager data ...\n",
      "Order manager is ready\n",
      "Order manager download has completed\n",
      "Update: order_id=1000\n",
      "Market data is ready\n",
      "Market is open for trading\n",
      "TradeSummary: time=79543117066000 price=5830.0\n",
      "TradeSummary: time=79603060690000 price=5830.0\n",
      "TradeSummary: time=79603572799000 price=5830.0\n",
      "TradeSummary: time=79604089343000 price=5830.0\n",
      "TradeSummary: time=79604592845000 price=5829.0\n",
      "TradeSummary: time=79605108206000 price=5829.0\n",
      "TradeSummary: time=79605630557000 price=5829.2\n",
      "TradeSummary: time=79606049660000 price=5829.2\n",
      "TradeSummary: time=79606570105000 price=5829.0\n",
      "CreateOrder: order_id=1001 side=Side.BUY quantity=1 limit_price=5829.0\n",
      "CreateOrderAck: order_id=1001 failure=False reason=\n",
      "OrderUpdate: order_id=1001 order_status=OrderStatus.WORKING remaining_quantity=1.0\n",
      "TradeSummary: time=79607093003000 price=5829.2\n",
      "TradeSummary: time=79607613473000 price=5829.0\n",
      "TradeUpdate: trade_id=1 order_id=1001 side=Side.BUY quantity=1.0 price=5829.0\n",
      "OrderUpdate: order_id=1001 order_status=OrderStatus.COMPLETED remaining_quantity=0.0\n",
      "TradeSummary: time=79608121593000 price=5826.0\n",
      "TradeSummary: time=79608631499000 price=5828.8\n",
      "TradeSummary: time=79609149561000 price=5828.8\n",
      "TradeSummary: time=79609569222000 price=5828.8\n",
      "TradeSummary: time=79610084379000 price=5828.8\n",
      "TradeSummary: time=79610593442000 price=5828.8\n",
      "TradeSummary: time=79611107641000 price=5829.0\n",
      "TradeSummary: time=79611628790000 price=5829.0\n",
      "CreateOrder: order_id=1002 side=Side.SELL quantity=1 limit_price=5829.0\n",
      "CreateOrderAck: order_id=1002 failure=False reason=\n",
      "OrderUpdate: order_id=1002 order_status=OrderStatus.WORKING remaining_quantity=1.0\n",
      "TradeUpdate: trade_id=2 order_id=1002 side=Side.SELL quantity=1.0 price=5829.0\n",
      "OrderUpdate: order_id=1002 order_status=OrderStatus.COMPLETED remaining_quantity=0.0\n",
      "Disconnected\n"
     ]
    }
   ],
   "source": [
    "result = simulator.dispatch(Strategy, **kwargs, logger=print)"
   ]
  },
  {
   "cell_type": "markdown",
   "metadata": {},
   "source": [
    "### ... timing"
   ]
  },
  {
   "cell_type": "code",
   "execution_count": 12,
   "metadata": {},
   "outputs": [
    {
     "name": "stdout",
     "output_type": "stream",
     "text": [
      "2.81 s ± 63.1 ms per loop (mean ± std. dev. of 7 runs, 1 loop each)\n"
     ]
    }
   ],
   "source": [
    "%timeit simulator.dispatch(Strategy, **kwargs, logger=lambda text: None)"
   ]
  },
  {
   "cell_type": "markdown",
   "metadata": {},
   "source": [
    "## Results"
   ]
  },
  {
   "cell_type": "code",
   "execution_count": 13,
   "metadata": {},
   "outputs": [
    {
     "data": {
      "text/html": [
       "<div>\n",
       "<style scoped>\n",
       "    .dataframe tbody tr th:only-of-type {\n",
       "        vertical-align: middle;\n",
       "    }\n",
       "\n",
       "    .dataframe tbody tr th {\n",
       "        vertical-align: top;\n",
       "    }\n",
       "\n",
       "    .dataframe thead th {\n",
       "        text-align: right;\n",
       "    }\n",
       "</style>\n",
       "<table border=\"1\" class=\"dataframe\">\n",
       "  <thead>\n",
       "    <tr style=\"text-align: right;\">\n",
       "      <th></th>\n",
       "      <th></th>\n",
       "      <th></th>\n",
       "      <th>tick_size</th>\n",
       "      <th>limit_up</th>\n",
       "      <th>limit_down</th>\n",
       "      <th>multiplier</th>\n",
       "    </tr>\n",
       "    <tr>\n",
       "      <th>time</th>\n",
       "      <th>exchange</th>\n",
       "      <th>symbol</th>\n",
       "      <th></th>\n",
       "      <th></th>\n",
       "      <th></th>\n",
       "      <th></th>\n",
       "    </tr>\n",
       "  </thead>\n",
       "  <tbody>\n",
       "    <tr>\n",
       "      <th>1519378161928698184</th>\n",
       "      <th>CFFEX</th>\n",
       "      <th>IC1803</th>\n",
       "      <td>0.2</td>\n",
       "      <td>0.0</td>\n",
       "      <td>0.0</td>\n",
       "      <td>0.0</td>\n",
       "    </tr>\n",
       "  </tbody>\n",
       "</table>\n",
       "</div>"
      ],
      "text/plain": [
       "                                     tick_size  limit_up  limit_down  \\\n",
       "time                exchange symbol                                    \n",
       "1519378161928698184 CFFEX    IC1803        0.2       0.0         0.0   \n",
       "\n",
       "                                     multiplier  \n",
       "time                exchange symbol              \n",
       "1519378161928698184 CFFEX    IC1803         0.0  "
      ]
     },
     "execution_count": 13,
     "metadata": {},
     "output_type": "execute_result"
    }
   ],
   "source": [
    "reference_data = result.extract(kind=\"reference_data\")\n",
    "reference_data"
   ]
  },
  {
   "cell_type": "code",
   "execution_count": 14,
   "metadata": {},
   "outputs": [
    {
     "data": {
      "text/html": [
       "<div>\n",
       "<style scoped>\n",
       "    .dataframe tbody tr th:only-of-type {\n",
       "        vertical-align: middle;\n",
       "    }\n",
       "\n",
       "    .dataframe tbody tr th {\n",
       "        vertical-align: top;\n",
       "    }\n",
       "\n",
       "    .dataframe thead th {\n",
       "        text-align: right;\n",
       "    }\n",
       "</style>\n",
       "<table border=\"1\" class=\"dataframe\">\n",
       "  <thead>\n",
       "    <tr style=\"text-align: right;\">\n",
       "      <th></th>\n",
       "      <th></th>\n",
       "      <th></th>\n",
       "      <th>trading_status</th>\n",
       "    </tr>\n",
       "    <tr>\n",
       "      <th>time</th>\n",
       "      <th>exchange</th>\n",
       "      <th>symbol</th>\n",
       "      <th></th>\n",
       "    </tr>\n",
       "  </thead>\n",
       "  <tbody>\n",
       "    <tr>\n",
       "      <th>1519378161928698184</th>\n",
       "      <th>CFFEX</th>\n",
       "      <th>IC1803</th>\n",
       "      <td>OPEN</td>\n",
       "    </tr>\n",
       "  </tbody>\n",
       "</table>\n",
       "</div>"
      ],
      "text/plain": [
       "                                    trading_status\n",
       "time                exchange symbol               \n",
       "1519378161928698184 CFFEX    IC1803           OPEN"
      ]
     },
     "execution_count": 14,
     "metadata": {},
     "output_type": "execute_result"
    }
   ],
   "source": [
    "market_status = result.extract(kind=\"market_status\")\n",
    "market_status"
   ]
  },
  {
   "cell_type": "code",
   "execution_count": 15,
   "metadata": {},
   "outputs": [
    {
     "data": {
      "text/html": [
       "<div>\n",
       "<style scoped>\n",
       "    .dataframe tbody tr th:only-of-type {\n",
       "        vertical-align: middle;\n",
       "    }\n",
       "\n",
       "    .dataframe tbody tr th {\n",
       "        vertical-align: top;\n",
       "    }\n",
       "\n",
       "    .dataframe thead th {\n",
       "        text-align: right;\n",
       "    }\n",
       "</style>\n",
       "<table border=\"1\" class=\"dataframe\">\n",
       "  <thead>\n",
       "    <tr style=\"text-align: right;\">\n",
       "      <th></th>\n",
       "      <th></th>\n",
       "      <th></th>\n",
       "      <th>price</th>\n",
       "      <th>volume</th>\n",
       "    </tr>\n",
       "    <tr>\n",
       "      <th>time</th>\n",
       "      <th>exchange</th>\n",
       "      <th>symbol</th>\n",
       "      <th></th>\n",
       "      <th></th>\n",
       "    </tr>\n",
       "  </thead>\n",
       "  <tbody>\n",
       "    <tr>\n",
       "      <th>1519378161928000000</th>\n",
       "      <th>CFFEX</th>\n",
       "      <th>IC1803</th>\n",
       "      <td>5830.0</td>\n",
       "      <td>20.0</td>\n",
       "    </tr>\n",
       "    <tr>\n",
       "      <th>1519378221872000000</th>\n",
       "      <th>CFFEX</th>\n",
       "      <th>IC1803</th>\n",
       "      <td>5830.0</td>\n",
       "      <td>14.0</td>\n",
       "    </tr>\n",
       "    <tr>\n",
       "      <th>1519378222384000000</th>\n",
       "      <th>CFFEX</th>\n",
       "      <th>IC1803</th>\n",
       "      <td>5830.0</td>\n",
       "      <td>3.0</td>\n",
       "    </tr>\n",
       "    <tr>\n",
       "      <th>1519378222900000000</th>\n",
       "      <th>CFFEX</th>\n",
       "      <th>IC1803</th>\n",
       "      <td>5830.0</td>\n",
       "      <td>2.0</td>\n",
       "    </tr>\n",
       "    <tr>\n",
       "      <th>1519378223404000000</th>\n",
       "      <th>CFFEX</th>\n",
       "      <th>IC1803</th>\n",
       "      <td>5829.0</td>\n",
       "      <td>1.0</td>\n",
       "    </tr>\n",
       "  </tbody>\n",
       "</table>\n",
       "</div>"
      ],
      "text/plain": [
       "                                      price  volume\n",
       "time                exchange symbol                \n",
       "1519378161928000000 CFFEX    IC1803  5830.0    20.0\n",
       "1519378221872000000 CFFEX    IC1803  5830.0    14.0\n",
       "1519378222384000000 CFFEX    IC1803  5830.0     3.0\n",
       "1519378222900000000 CFFEX    IC1803  5830.0     2.0\n",
       "1519378223404000000 CFFEX    IC1803  5829.0     1.0"
      ]
     },
     "execution_count": 15,
     "metadata": {},
     "output_type": "execute_result"
    }
   ],
   "source": [
    "trade_summary = result.extract(kind=\"trade_summary\")\n",
    "trade_summary.head()"
   ]
  },
  {
   "cell_type": "code",
   "execution_count": 16,
   "metadata": {},
   "outputs": [
    {
     "data": {
      "text/html": [
       "<div>\n",
       "<style scoped>\n",
       "    .dataframe tbody tr th:only-of-type {\n",
       "        vertical-align: middle;\n",
       "    }\n",
       "\n",
       "    .dataframe tbody tr th {\n",
       "        vertical-align: top;\n",
       "    }\n",
       "\n",
       "    .dataframe thead th {\n",
       "        text-align: right;\n",
       "    }\n",
       "</style>\n",
       "<table border=\"1\" class=\"dataframe\">\n",
       "  <thead>\n",
       "    <tr style=\"text-align: right;\">\n",
       "      <th></th>\n",
       "      <th></th>\n",
       "      <th></th>\n",
       "      <th>price</th>\n",
       "      <th>quantity</th>\n",
       "    </tr>\n",
       "    <tr>\n",
       "      <th>time</th>\n",
       "      <th>exchange</th>\n",
       "      <th>symbol</th>\n",
       "      <th></th>\n",
       "      <th></th>\n",
       "    </tr>\n",
       "  </thead>\n",
       "  <tbody>\n",
       "    <tr>\n",
       "      <th rowspan=\"10\" valign=\"top\">1519378161928000000</th>\n",
       "      <th rowspan=\"10\" valign=\"top\">CFFEX</th>\n",
       "      <th>IC1803</th>\n",
       "      <td>5834.0</td>\n",
       "      <td>-5.0</td>\n",
       "    </tr>\n",
       "    <tr>\n",
       "      <th>IC1803</th>\n",
       "      <td>5837.8</td>\n",
       "      <td>-1.0</td>\n",
       "    </tr>\n",
       "    <tr>\n",
       "      <th>IC1803</th>\n",
       "      <td>5831.0</td>\n",
       "      <td>-1.0</td>\n",
       "    </tr>\n",
       "    <tr>\n",
       "      <th>IC1803</th>\n",
       "      <td>5821.0</td>\n",
       "      <td>1.0</td>\n",
       "    </tr>\n",
       "    <tr>\n",
       "      <th>IC1803</th>\n",
       "      <td>5825.0</td>\n",
       "      <td>1.0</td>\n",
       "    </tr>\n",
       "    <tr>\n",
       "      <th>IC1803</th>\n",
       "      <td>5820.2</td>\n",
       "      <td>1.0</td>\n",
       "    </tr>\n",
       "    <tr>\n",
       "      <th>IC1803</th>\n",
       "      <td>5830.0</td>\n",
       "      <td>-8.0</td>\n",
       "    </tr>\n",
       "    <tr>\n",
       "      <th>IC1803</th>\n",
       "      <td>5820.0</td>\n",
       "      <td>1.0</td>\n",
       "    </tr>\n",
       "    <tr>\n",
       "      <th>IC1803</th>\n",
       "      <td>5836.0</td>\n",
       "      <td>-1.0</td>\n",
       "    </tr>\n",
       "    <tr>\n",
       "      <th>IC1803</th>\n",
       "      <td>5819.0</td>\n",
       "      <td>1.0</td>\n",
       "    </tr>\n",
       "    <tr>\n",
       "      <th rowspan=\"10\" valign=\"top\">1519378221872000000</th>\n",
       "      <th rowspan=\"10\" valign=\"top\">CFFEX</th>\n",
       "      <th>IC1803</th>\n",
       "      <td>5834.0</td>\n",
       "      <td>-5.0</td>\n",
       "    </tr>\n",
       "    <tr>\n",
       "      <th>IC1803</th>\n",
       "      <td>5837.8</td>\n",
       "      <td>-1.0</td>\n",
       "    </tr>\n",
       "    <tr>\n",
       "      <th>IC1803</th>\n",
       "      <td>5831.0</td>\n",
       "      <td>-1.0</td>\n",
       "    </tr>\n",
       "    <tr>\n",
       "      <th>IC1803</th>\n",
       "      <td>5823.0</td>\n",
       "      <td>5.0</td>\n",
       "    </tr>\n",
       "    <tr>\n",
       "      <th>IC1803</th>\n",
       "      <td>5824.0</td>\n",
       "      <td>5.0</td>\n",
       "    </tr>\n",
       "    <tr>\n",
       "      <th>IC1803</th>\n",
       "      <td>5829.0</td>\n",
       "      <td>5.0</td>\n",
       "    </tr>\n",
       "    <tr>\n",
       "      <th>IC1803</th>\n",
       "      <td>5825.0</td>\n",
       "      <td>6.0</td>\n",
       "    </tr>\n",
       "    <tr>\n",
       "      <th>IC1803</th>\n",
       "      <td>5821.0</td>\n",
       "      <td>0.0</td>\n",
       "    </tr>\n",
       "    <tr>\n",
       "      <th>IC1803</th>\n",
       "      <td>5820.2</td>\n",
       "      <td>0.0</td>\n",
       "    </tr>\n",
       "    <tr>\n",
       "      <th>IC1803</th>\n",
       "      <td>5836.8</td>\n",
       "      <td>-5.0</td>\n",
       "    </tr>\n",
       "  </tbody>\n",
       "</table>\n",
       "</div>"
      ],
      "text/plain": [
       "                                      price  quantity\n",
       "time                exchange symbol                  \n",
       "1519378161928000000 CFFEX    IC1803  5834.0      -5.0\n",
       "                             IC1803  5837.8      -1.0\n",
       "                             IC1803  5831.0      -1.0\n",
       "                             IC1803  5821.0       1.0\n",
       "                             IC1803  5825.0       1.0\n",
       "                             IC1803  5820.2       1.0\n",
       "                             IC1803  5830.0      -8.0\n",
       "                             IC1803  5820.0       1.0\n",
       "                             IC1803  5836.0      -1.0\n",
       "                             IC1803  5819.0       1.0\n",
       "1519378221872000000 CFFEX    IC1803  5834.0      -5.0\n",
       "                             IC1803  5837.8      -1.0\n",
       "                             IC1803  5831.0      -1.0\n",
       "                             IC1803  5823.0       5.0\n",
       "                             IC1803  5824.0       5.0\n",
       "                             IC1803  5829.0       5.0\n",
       "                             IC1803  5825.0       6.0\n",
       "                             IC1803  5821.0       0.0\n",
       "                             IC1803  5820.2       0.0\n",
       "                             IC1803  5836.8      -5.0"
      ]
     },
     "execution_count": 16,
     "metadata": {},
     "output_type": "execute_result"
    }
   ],
   "source": [
    "market_by_price = result.extract(kind='market_by_price')\n",
    "market_by_price.head(20)"
   ]
  },
  {
   "cell_type": "code",
   "execution_count": 17,
   "metadata": {},
   "outputs": [
    {
     "data": {
      "text/html": [
       "<div>\n",
       "<style scoped>\n",
       "    .dataframe tbody tr th:only-of-type {\n",
       "        vertical-align: middle;\n",
       "    }\n",
       "\n",
       "    .dataframe tbody tr th {\n",
       "        vertical-align: top;\n",
       "    }\n",
       "\n",
       "    .dataframe thead th {\n",
       "        text-align: right;\n",
       "    }\n",
       "</style>\n",
       "<table border=\"1\" class=\"dataframe\">\n",
       "  <thead>\n",
       "    <tr style=\"text-align: right;\">\n",
       "      <th></th>\n",
       "      <th></th>\n",
       "      <th></th>\n",
       "      <th>bid</th>\n",
       "      <th>ask</th>\n",
       "    </tr>\n",
       "    <tr>\n",
       "      <th>time</th>\n",
       "      <th>exchange</th>\n",
       "      <th>symbol</th>\n",
       "      <th></th>\n",
       "      <th></th>\n",
       "    </tr>\n",
       "  </thead>\n",
       "  <tbody>\n",
       "    <tr>\n",
       "      <th>1519378161928000000</th>\n",
       "      <th>CFFEX</th>\n",
       "      <th>IC1803</th>\n",
       "      <td>5825.0</td>\n",
       "      <td>5830.0</td>\n",
       "    </tr>\n",
       "    <tr>\n",
       "      <th>1519378221872000000</th>\n",
       "      <th>CFFEX</th>\n",
       "      <th>IC1803</th>\n",
       "      <td>5830.0</td>\n",
       "      <td>5831.0</td>\n",
       "    </tr>\n",
       "    <tr>\n",
       "      <th>1519378222384000000</th>\n",
       "      <th>CFFEX</th>\n",
       "      <th>IC1803</th>\n",
       "      <td>5829.0</td>\n",
       "      <td>5830.0</td>\n",
       "    </tr>\n",
       "    <tr>\n",
       "      <th>1519378222900000000</th>\n",
       "      <th>CFFEX</th>\n",
       "      <th>IC1803</th>\n",
       "      <td>5829.0</td>\n",
       "      <td>5830.0</td>\n",
       "    </tr>\n",
       "    <tr>\n",
       "      <th>1519378223404000000</th>\n",
       "      <th>CFFEX</th>\n",
       "      <th>IC1803</th>\n",
       "      <td>5829.0</td>\n",
       "      <td>5829.4</td>\n",
       "    </tr>\n",
       "  </tbody>\n",
       "</table>\n",
       "</div>"
      ],
      "text/plain": [
       "                                        bid     ask\n",
       "time                exchange symbol                \n",
       "1519378161928000000 CFFEX    IC1803  5825.0  5830.0\n",
       "1519378221872000000 CFFEX    IC1803  5830.0  5831.0\n",
       "1519378222384000000 CFFEX    IC1803  5829.0  5830.0\n",
       "1519378222900000000 CFFEX    IC1803  5829.0  5830.0\n",
       "1519378223404000000 CFFEX    IC1803  5829.0  5829.4"
      ]
     },
     "execution_count": 17,
     "metadata": {},
     "output_type": "execute_result"
    }
   ],
   "source": [
    "top_of_book = result.extract(kind='top_of_book')\n",
    "top_of_book.head()"
   ]
  },
  {
   "cell_type": "code",
   "execution_count": 18,
   "metadata": {},
   "outputs": [
    {
     "data": {
      "text/html": [
       "<div>\n",
       "<style scoped>\n",
       "    .dataframe tbody tr th:only-of-type {\n",
       "        vertical-align: middle;\n",
       "    }\n",
       "\n",
       "    .dataframe tbody tr th {\n",
       "        vertical-align: top;\n",
       "    }\n",
       "\n",
       "    .dataframe thead th {\n",
       "        text-align: right;\n",
       "    }\n",
       "</style>\n",
       "<table border=\"1\" class=\"dataframe\">\n",
       "  <thead>\n",
       "    <tr style=\"text-align: right;\">\n",
       "      <th></th>\n",
       "      <th></th>\n",
       "      <th></th>\n",
       "      <th></th>\n",
       "      <th>order_type</th>\n",
       "      <th>time_in_force</th>\n",
       "      <th>side</th>\n",
       "    </tr>\n",
       "    <tr>\n",
       "      <th>time</th>\n",
       "      <th>exchange</th>\n",
       "      <th>symbol</th>\n",
       "      <th>order_id</th>\n",
       "      <th></th>\n",
       "      <th></th>\n",
       "      <th></th>\n",
       "    </tr>\n",
       "  </thead>\n",
       "  <tbody>\n",
       "    <tr>\n",
       "      <th>1519378230966798031</th>\n",
       "      <th>CFFEX</th>\n",
       "      <th>IC1803</th>\n",
       "      <th>1002</th>\n",
       "      <td>LIMIT</td>\n",
       "      <td>GTC</td>\n",
       "      <td>SELL</td>\n",
       "    </tr>\n",
       "    <tr>\n",
       "      <th>1519378225381736785</th>\n",
       "      <th>CFFEX</th>\n",
       "      <th>IC1803</th>\n",
       "      <th>1001</th>\n",
       "      <td>LIMIT</td>\n",
       "      <td>GTC</td>\n",
       "      <td>BUY</td>\n",
       "    </tr>\n",
       "  </tbody>\n",
       "</table>\n",
       "</div>"
      ],
      "text/plain": [
       "                                             order_type time_in_force  side\n",
       "time                exchange symbol order_id                               \n",
       "1519378230966798031 CFFEX    IC1803 1002          LIMIT           GTC  SELL\n",
       "1519378225381736785 CFFEX    IC1803 1001          LIMIT           GTC   BUY"
      ]
     },
     "execution_count": 18,
     "metadata": {},
     "output_type": "execute_result"
    }
   ],
   "source": [
    "create_order = result.extract(kind='create_order')\n",
    "create_order"
   ]
  },
  {
   "cell_type": "code",
   "execution_count": 19,
   "metadata": {},
   "outputs": [
    {
     "data": {
      "text/html": [
       "<div>\n",
       "<style scoped>\n",
       "    .dataframe tbody tr th:only-of-type {\n",
       "        vertical-align: middle;\n",
       "    }\n",
       "\n",
       "    .dataframe tbody tr th {\n",
       "        vertical-align: top;\n",
       "    }\n",
       "\n",
       "    .dataframe thead th {\n",
       "        text-align: right;\n",
       "    }\n",
       "</style>\n",
       "<table border=\"1\" class=\"dataframe\">\n",
       "  <thead>\n",
       "    <tr style=\"text-align: right;\">\n",
       "      <th></th>\n",
       "      <th></th>\n",
       "      <th></th>\n",
       "      <th></th>\n",
       "      <th>order_status</th>\n",
       "      <th>limit_price</th>\n",
       "      <th>remaining_quantity</th>\n",
       "      <th>traded_quantity</th>\n",
       "    </tr>\n",
       "    <tr>\n",
       "      <th>time</th>\n",
       "      <th>exchange</th>\n",
       "      <th>symbol</th>\n",
       "      <th>order_id</th>\n",
       "      <th></th>\n",
       "      <th></th>\n",
       "      <th></th>\n",
       "      <th></th>\n",
       "    </tr>\n",
       "  </thead>\n",
       "  <tbody>\n",
       "    <tr>\n",
       "      <th>1519378225381736785</th>\n",
       "      <th>CFFEX</th>\n",
       "      <th>IC1803</th>\n",
       "      <th>1001</th>\n",
       "      <td>WORKING</td>\n",
       "      <td>5829.0</td>\n",
       "      <td>1.0</td>\n",
       "      <td>0.0</td>\n",
       "    </tr>\n",
       "    <tr>\n",
       "      <th>1519378226425105125</th>\n",
       "      <th>CFFEX</th>\n",
       "      <th>IC1803</th>\n",
       "      <th>1001</th>\n",
       "      <td>COMPLETED</td>\n",
       "      <td>5829.0</td>\n",
       "      <td>0.0</td>\n",
       "      <td>1.0</td>\n",
       "    </tr>\n",
       "    <tr>\n",
       "      <th>1519378230966798031</th>\n",
       "      <th>CFFEX</th>\n",
       "      <th>IC1803</th>\n",
       "      <th>1002</th>\n",
       "      <td>WORKING</td>\n",
       "      <td>5829.0</td>\n",
       "      <td>1.0</td>\n",
       "      <td>0.0</td>\n",
       "    </tr>\n",
       "    <tr>\n",
       "      <th>1519378301396991737</th>\n",
       "      <th>CFFEX</th>\n",
       "      <th>IC1803</th>\n",
       "      <th>1002</th>\n",
       "      <td>COMPLETED</td>\n",
       "      <td>5829.0</td>\n",
       "      <td>0.0</td>\n",
       "      <td>1.0</td>\n",
       "    </tr>\n",
       "  </tbody>\n",
       "</table>\n",
       "</div>"
      ],
      "text/plain": [
       "                                             order_status  limit_price  \\\n",
       "time                exchange symbol order_id                             \n",
       "1519378225381736785 CFFEX    IC1803 1001          WORKING       5829.0   \n",
       "1519378226425105125 CFFEX    IC1803 1001        COMPLETED       5829.0   \n",
       "1519378230966798031 CFFEX    IC1803 1002          WORKING       5829.0   \n",
       "1519378301396991737 CFFEX    IC1803 1002        COMPLETED       5829.0   \n",
       "\n",
       "                                              remaining_quantity  \\\n",
       "time                exchange symbol order_id                       \n",
       "1519378225381736785 CFFEX    IC1803 1001                     1.0   \n",
       "1519378226425105125 CFFEX    IC1803 1001                     0.0   \n",
       "1519378230966798031 CFFEX    IC1803 1002                     1.0   \n",
       "1519378301396991737 CFFEX    IC1803 1002                     0.0   \n",
       "\n",
       "                                              traded_quantity  \n",
       "time                exchange symbol order_id                   \n",
       "1519378225381736785 CFFEX    IC1803 1001                  0.0  \n",
       "1519378226425105125 CFFEX    IC1803 1001                  1.0  \n",
       "1519378230966798031 CFFEX    IC1803 1002                  0.0  \n",
       "1519378301396991737 CFFEX    IC1803 1002                  1.0  "
      ]
     },
     "execution_count": 19,
     "metadata": {},
     "output_type": "execute_result"
    }
   ],
   "source": [
    "order_update = result.extract(kind='order_update')\n",
    "order_update"
   ]
  },
  {
   "cell_type": "code",
   "execution_count": 20,
   "metadata": {},
   "outputs": [
    {
     "data": {
      "text/html": [
       "<div>\n",
       "<style scoped>\n",
       "    .dataframe tbody tr th:only-of-type {\n",
       "        vertical-align: middle;\n",
       "    }\n",
       "\n",
       "    .dataframe tbody tr th {\n",
       "        vertical-align: top;\n",
       "    }\n",
       "\n",
       "    .dataframe thead th {\n",
       "        text-align: right;\n",
       "    }\n",
       "</style>\n",
       "<table border=\"1\" class=\"dataframe\">\n",
       "  <thead>\n",
       "    <tr style=\"text-align: right;\">\n",
       "      <th></th>\n",
       "      <th></th>\n",
       "      <th></th>\n",
       "      <th></th>\n",
       "      <th></th>\n",
       "      <th>quantity</th>\n",
       "      <th>price</th>\n",
       "    </tr>\n",
       "    <tr>\n",
       "      <th>time</th>\n",
       "      <th>exchange</th>\n",
       "      <th>symbol</th>\n",
       "      <th>order_id</th>\n",
       "      <th>trade_id</th>\n",
       "      <th></th>\n",
       "      <th></th>\n",
       "    </tr>\n",
       "  </thead>\n",
       "  <tbody>\n",
       "    <tr>\n",
       "      <th>1519378301396991737</th>\n",
       "      <th>CFFEX</th>\n",
       "      <th>IC1803</th>\n",
       "      <th>1002</th>\n",
       "      <th>2</th>\n",
       "      <td>1.0</td>\n",
       "      <td>5829.0</td>\n",
       "    </tr>\n",
       "    <tr>\n",
       "      <th>1519378226425105125</th>\n",
       "      <th>CFFEX</th>\n",
       "      <th>IC1803</th>\n",
       "      <th>1001</th>\n",
       "      <th>1</th>\n",
       "      <td>1.0</td>\n",
       "      <td>5829.0</td>\n",
       "    </tr>\n",
       "  </tbody>\n",
       "</table>\n",
       "</div>"
      ],
      "text/plain": [
       "                                                       quantity   price\n",
       "time                exchange symbol order_id trade_id                  \n",
       "1519378301396991737 CFFEX    IC1803 1002     2              1.0  5829.0\n",
       "1519378226425105125 CFFEX    IC1803 1001     1              1.0  5829.0"
      ]
     },
     "execution_count": 20,
     "metadata": {},
     "output_type": "execute_result"
    }
   ],
   "source": [
    "trade_update = result.extract(kind='trade_update')\n",
    "trade_update"
   ]
  },
  {
   "cell_type": "markdown",
   "metadata": {},
   "source": [
    "## Charts"
   ]
  },
  {
   "cell_type": "code",
   "execution_count": 21,
   "metadata": {},
   "outputs": [],
   "source": [
    "def get_range(df, idx_0, idx_1):\n",
    "    tmp = df.index.get_level_values(0)[idx_0:idx_1]\n",
    "    return (tmp[0], tmp[-1])"
   ]
  },
  {
   "cell_type": "code",
   "execution_count": 22,
   "metadata": {},
   "outputs": [],
   "source": [
    "def select_subset(df, time_0, time_1):\n",
    "    import numpy as np\n",
    "    include = np.logical_and(\n",
    "        df.index.get_level_values(0) >= time_0,\n",
    "        df.index.get_level_values(0) <= time_1)\n",
    "    tmp = df[include]\n",
    "    # drop from index\n",
    "    names_to_remove = ('exchange', 'symbol')\n",
    "    index_names = [name for name in tmp.index.names if name not in names_to_remove]\n",
    "    if len(index_names) == len(tmp.index.names):\n",
    "        return tmp\n",
    "    return tmp.reset_index().drop(columns=list(names_to_remove)).set_index(index_names)"
   ]
  },
  {
   "cell_type": "code",
   "execution_count": 23,
   "metadata": {},
   "outputs": [],
   "source": [
    "def plot_data(big_size, reference_data, trade_summary, market_by_price, top_of_book, create_order, order_update):\n",
    "    \"\"\" Utility function to plot order book, traded volume and best bid/ask on the same chart. \"\"\"\n",
    "    import numpy as np\n",
    "    import pandas as pd\n",
    "    import matplotlib as mpl\n",
    "    import matplotlib.pyplot as plt\n",
    "    fig, ax = plt.subplots(figsize=(16,10))\n",
    "    # represent all ticks within the range\n",
    "    tick_size = reference_data['tick_size'].values[0]\n",
    "    time = market_by_price.index.get_level_values('time').values\n",
    "    price = market_by_price['price'].values\n",
    "    quantity = market_by_price['quantity']\n",
    "    tick = ((price / tick_size) + .5).astype(int)\n",
    "    rng = np.array(range(tick.min(), tick.max() + 1, 1))\n",
    "    tmp = pd.DataFrame(\n",
    "        data=dict(\n",
    "            time=np.concatenate((np.full(rng.size, time[0]), time)),\n",
    "            price=np.concatenate((rng, tick)) * tick_size - 0.5 * tick_size,\n",
    "            quantity=np.concatenate((np.zeros(rng.size), quantity))\n",
    "        )\n",
    "    ).set_index('time').sort_index()\n",
    "    # ... market by price\n",
    "    piv = tmp.reset_index().pivot_table(\n",
    "        index='time',\n",
    "        columns='price',\n",
    "        values='quantity',\n",
    "        aggfunc=np.sum)\n",
    "    ax.pcolor(\n",
    "        piv.index,\n",
    "        piv.columns,\n",
    "        piv.transpose(),\n",
    "        alpha=1, cmap=mpl.cm.get_cmap('PiYG'),\n",
    "        vmin=-big_size, vmax=big_size)\n",
    "    # ... top of book\n",
    "    top_of_book.plot(\n",
    "        drawstyle=\"steps-post\",\n",
    "        alpha=0.5,\n",
    "        ax=ax)\n",
    "    # ... trade summary\n",
    "    trade_summary.reset_index().plot(\n",
    "        x='time',\n",
    "        y='price',\n",
    "        kind='scatter', marker='.', linewidths=2, edgecolors='black',\n",
    "        ax=ax)\n",
    "    # ... orders\n",
    "    tmp = pd.concat(\n",
    "        objs=[\n",
    "            create_order.reset_index().drop(columns=['time']).set_index('order_id').sort_index(),\n",
    "            order_update.reset_index().set_index('order_id').sort_index()\n",
    "        ],\n",
    "        axis=1\n",
    "    ).reset_index().set_index(['time', 'order_id'])\n",
    "    buy = tmp[tmp['side'] == 'BUY'].reset_index()\n",
    "    if len(buy) > 0:\n",
    "        buy.plot(\n",
    "            x='time',\n",
    "            y='limit_price',\n",
    "            s=15*big_size,\n",
    "            kind='scatter',\n",
    "            c='Blue',\n",
    "            marker='^',\n",
    "            ax=ax)\n",
    "    sell = tmp[tmp['side'] == 'SELL'].reset_index()\n",
    "    if len(sell) > 0:\n",
    "        sell.plot(\n",
    "            x='time',\n",
    "            y='limit_price',\n",
    "            s=15*big_size,\n",
    "            kind='scatter',\n",
    "            c='Red',\n",
    "            marker='v',\n",
    "            ax=ax)\n",
    "    # final adjustments\n",
    "    ax.set_ylim(price.min(), price.max())\n",
    "    fig.tight_layout()\n",
    "    plt.show()"
   ]
  },
  {
   "cell_type": "markdown",
   "metadata": {},
   "source": [
    "### Placement of orders\n",
    "\n",
    "* The buy order joins the bid and is filled soon after when the best offer match\n",
    "* The sell order joins the offer and is not filled immediately"
   ]
  },
  {
   "cell_type": "code",
   "execution_count": 24,
   "metadata": {},
   "outputs": [
    {
     "data": {
      "text/plain": [
       "(1519378223919000000, 1519378231895000000)"
      ]
     },
     "execution_count": 24,
     "metadata": {},
     "output_type": "execute_result"
    }
   ],
   "source": [
    "time_0, time_1 = get_range(trade_summary, 5, 15)\n",
    "time_0, time_1"
   ]
  },
  {
   "cell_type": "code",
   "execution_count": 25,
   "metadata": {},
   "outputs": [
    {
     "data": {
      "image/png": "[encoded data removed]",
      "text/plain": [
       "<Figure size 1152x720 with 1 Axes>"
      ]
     },
     "metadata": {
      "needs_background": "light"
     },
     "output_type": "display_data"
    }
   ],
   "source": [
    "plot_data(\n",
    "    10,\n",
    "    reference_data,\n",
    "    select_subset(trade_summary, time_0, time_1),\n",
    "    select_subset(market_by_price, time_0, time_1),\n",
    "    select_subset(top_of_book, time_0, time_1),\n",
    "    create_order,\n",
    "    select_subset(order_update, time_0, time_1))"
   ]
  },
  {
   "cell_type": "markdown",
   "metadata": {},
   "source": [
    "### Extend the view to include the completion of the sell order"
   ]
  },
  {
   "cell_type": "code",
   "execution_count": 26,
   "metadata": {},
   "outputs": [
    {
     "data": {
      "text/plain": [
       "(1519378221872000000, 1519378309891000000)"
      ]
     },
     "execution_count": 26,
     "metadata": {},
     "output_type": "execute_result"
    }
   ],
   "source": [
    "time_0, time_1 = get_range(trade_summary, 1, 100)\n",
    "time_0, time_1"
   ]
  },
  {
   "cell_type": "code",
   "execution_count": 27,
   "metadata": {},
   "outputs": [
    {
     "data": {
      "image/png": "[encoded data removed]",
      "text/plain": [
       "<Figure size 1152x720 with 1 Axes>"
      ]
     },
     "metadata": {
      "needs_background": "light"
     },
     "output_type": "display_data"
    }
   ],
   "source": [
    "plot_data(\n",
    "    10,\n",
    "    reference_data,\n",
    "    select_subset(trade_summary, time_0, time_1),\n",
    "    select_subset(market_by_price, time_0, time_1),\n",
    "    select_subset(top_of_book, time_0, time_1),\n",
    "    create_order,\n",
    "    select_subset(order_update, time_0, time_1))"
   ]
  },
  {
   "cell_type": "markdown",
   "metadata": {},
   "source": [
    "### Zoom in on the sell order being filled\n",
    "\n",
    "* Best bid crosses the resting order"
   ]
  },
  {
   "cell_type": "code",
   "execution_count": 28,
   "metadata": {},
   "outputs": [
    {
     "data": {
      "text/plain": [
       "(1519378296952000000, 1519378303459000000)"
      ]
     },
     "execution_count": 28,
     "metadata": {},
     "output_type": "execute_result"
    }
   ],
   "source": [
    "time_0, time_1 = get_range(trade_summary, 80, 90)\n",
    "time_0, time_1"
   ]
  },
  {
   "cell_type": "code",
   "execution_count": 29,
   "metadata": {},
   "outputs": [
    {
     "data": {
      "image/png": "[encoded data removed]",
      "text/plain": [
       "<Figure size 1152x720 with 1 Axes>"
      ]
     },
     "metadata": {
      "needs_background": "light"
     },
     "output_type": "display_data"
    }
   ],
   "source": [
    "plot_data(\n",
    "    10,\n",
    "    reference_data,\n",
    "    select_subset(trade_summary, time_0, time_1),\n",
    "    select_subset(market_by_price, time_0, time_1),\n",
    "    select_subset(top_of_book, time_0, time_1),\n",
    "    create_order,\n",
    "    select_subset(order_update, time_0, time_1))"
   ]
  }
 ],
 "metadata": {
  "kernelspec": {
   "display_name": "Python 3",
   "language": "python",
   "name": "python3"
  },
  "language_info": {
   "codemirror_mode": {
    "name": "ipython",
    "version": 3
   },
   "file_extension": ".py",
   "mimetype": "text/x-python",
   "name": "python",
   "nbconvert_exporter": "python",
   "pygments_lexer": "ipython3",
   "version": "3.7.3"
  }
 },
 "nbformat": 4,
 "nbformat_minor": 2
}
