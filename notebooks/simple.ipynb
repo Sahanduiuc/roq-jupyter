{
 "cells": [
  {
   "cell_type": "markdown",
   "metadata": {},
   "source": [
    "# Simple\n",
    "\n",
    "A replica of the C++ version to be found in ../src/roq/samples/simple/"
   ]
  },
  {
   "cell_type": "code",
   "execution_count": 1,
   "metadata": {},
   "outputs": [],
   "source": [
    "import logging"
   ]
  },
  {
   "cell_type": "code",
   "execution_count": 2,
   "metadata": {},
   "outputs": [],
   "source": [
    "# Do NOT enable logging unless you REALLY need it! And then DO NOT SAVE this workbook!\n",
    "# logging.basicConfig(level=logging.INFO)"
   ]
  },
  {
   "cell_type": "code",
   "execution_count": 3,
   "metadata": {},
   "outputs": [],
   "source": [
    "import datetime"
   ]
  },
  {
   "cell_type": "code",
   "execution_count": 4,
   "metadata": {},
   "outputs": [],
   "source": [
    "%matplotlib inline"
   ]
  },
  {
   "cell_type": "markdown",
   "metadata": {},
   "source": [
    "## Import the Roq Python wrapper\n",
    "\n",
    "### Note!\n",
    "\n",
    "You will have to follow these steps before launching Jupyter\n",
    "\n",
    "* Install Miniconda from https://docs.conda.io/en/latest/miniconda.html\n",
    "    * `wget https://repo.anaconda.com/miniconda/Miniconda3-latest-Linux-x86_64.sh`\n",
    "    * `bash Miniconda3-latest-Linux-x86_64.sh -b`\n",
    "    * `source ~/miniconda3/bin/activate'\n",
    "* Install the Roq Python package from https://roq-trading.com/conda/unstable\n",
    "    * `conda install --override-channels --channel defaults --channel https://roq-trading.com/conda/unstable roq-python`"
   ]
  },
  {
   "cell_type": "code",
   "execution_count": 5,
   "metadata": {},
   "outputs": [],
   "source": [
    "import roq"
   ]
  },
  {
   "cell_type": "markdown",
   "metadata": {},
   "source": [
    "## The event handler interface: roq.client.Handler"
   ]
  },
  {
   "cell_type": "code",
   "execution_count": 6,
   "metadata": {},
   "outputs": [
    {
     "name": "stdout",
     "output_type": "stream",
     "text": [
      "Help on class Handler in module roq.client:\n",
      "\n",
      "class Handler(pybind11_builtins.pybind11_object)\n",
      " |  Method resolution order:\n",
      " |      Handler\n",
      " |      pybind11_builtins.pybind11_object\n",
      " |      builtins.object\n",
      " |  \n",
      " |  Methods defined here:\n",
      " |  \n",
      " |  __init__(...)\n",
      " |      __init__(self: roq.client.Handler) -> None\n",
      " |  \n",
      " |  cancel_order(...)\n",
      " |      cancel_order(self: roq.client.Handler, account: str, order_id: int, source: int) -> None\n",
      " |  \n",
      " |  create_order(...)\n",
      " |      create_order(self: roq.client.Handler, account: str, order_id: int, exchange: str, symbol: str, side: roq.Side, quantity: float, order_type: roq.OrderType, limit_price: float, time_in_force: roq.TimeInForce, position_effect: roq.PositionEffect, order_template: str, source: int) -> None\n",
      " |  \n",
      " |  modify_order(...)\n",
      " |      modify_order(self: roq.client.Handler, account: str, order_id: int, quantity_change: float, limit_price: float, source: int) -> None\n",
      " |  \n",
      " |  on_cancel_order_ack(...)\n",
      " |      on_cancel_order_ack(self: roq.client.Handler, message_info: roq.MessageInfo, cancel_order_ack: roq.CancelOrderAck) -> None\n",
      " |  \n",
      " |  on_connection_status(...)\n",
      " |      on_connection_status(self: roq.client.Handler, arg0: int, arg1: str, arg2: roq.ConnectionStatus) -> None\n",
      " |  \n",
      " |  on_create_order_ack(...)\n",
      " |      on_create_order_ack(self: roq.client.Handler, message_info: roq.MessageInfo, create_order_ack: roq.CreateOrderAck) -> None\n",
      " |  \n",
      " |  on_daily_statistics(...)\n",
      " |      on_daily_statistics(self: roq.client.Handler, message_info: roq.MessageInfo, daily_statistics: roq.DailyStatistics) -> None\n",
      " |  \n",
      " |  on_download_begin(...)\n",
      " |      on_download_begin(self: roq.client.Handler, message_info: roq.MessageInfo, download_begin: roq.DownloadBegin) -> None\n",
      " |  \n",
      " |  on_download_end(...)\n",
      " |      on_download_end(self: roq.client.Handler, message_info: roq.MessageInfo, download_end: roq.DownloadEnd) -> None\n",
      " |  \n",
      " |  on_market_data_status(...)\n",
      " |      on_market_data_status(self: roq.client.Handler, message_info: roq.MessageInfo, market_data_status: roq.MarketDataStatus) -> None\n",
      " |  \n",
      " |  on_market_status(...)\n",
      " |      on_market_status(self: roq.client.Handler, message_info: roq.MessageInfo, market_status: roq.MarketStatus) -> None\n",
      " |  \n",
      " |  on_modify_order_ack(...)\n",
      " |      on_modify_order_ack(self: roq.client.Handler, message_info: roq.MessageInfo, modify_order_ack: roq.ModifyOrderAck) -> None\n",
      " |  \n",
      " |  on_order_manager_status(...)\n",
      " |      on_order_manager_status(self: roq.client.Handler, message_info: roq.MessageInfo, order_manager_status: roq.OrderManagerStatus) -> None\n",
      " |  \n",
      " |  on_order_update(...)\n",
      " |      on_order_update(self: roq.client.Handler, message_info: roq.MessageInfo, order_update: roq.OrderUpdate) -> None\n",
      " |  \n",
      " |  on_position_update(...)\n",
      " |      on_position_update(self: roq.client.Handler, message_info: roq.MessageInfo, position_update: roq.PositionUpdate) -> None\n",
      " |  \n",
      " |  on_reference_data(...)\n",
      " |      on_reference_data(self: roq.client.Handler, message_info: roq.MessageInfo, reference_data: roq.ReferenceData) -> None\n",
      " |  \n",
      " |  on_session_statistics(...)\n",
      " |      on_session_statistics(self: roq.client.Handler, message_info: roq.MessageInfo, session_statistics: roq.SessionStatistics) -> None\n",
      " |  \n",
      " |  on_start(...)\n",
      " |      on_start(self: roq.client.Handler) -> None\n",
      " |  \n",
      " |  on_stop(...)\n",
      " |      on_stop(self: roq.client.Handler) -> None\n",
      " |  \n",
      " |  on_trade_summary(...)\n",
      " |      on_trade_summary(self: roq.client.Handler, message_info: roq.MessageInfo, trade_summary: roq.TradeSummary) -> None\n",
      " |  \n",
      " |  on_trade_update(...)\n",
      " |      on_trade_update(self: roq.client.Handler, message_info: roq.MessageInfo, trade_update: roq.TradeUpdate) -> None\n",
      " |  \n",
      " |  send(...)\n",
      " |      send(self: roq.client.Handler, request: handle, source: int) -> None\n",
      " |  \n",
      " |  subscribe(...)\n",
      " |      subscribe(self: roq.client.Handler, accounts: Set[str], symbols_by_exchange: Dict[str, Set[str]], source: int) -> None\n",
      " |  \n",
      " |  ----------------------------------------------------------------------\n",
      " |  Static methods inherited from pybind11_builtins.pybind11_object:\n",
      " |  \n",
      " |  __new__(*args, **kwargs) from pybind11_builtins.pybind11_type\n",
      " |      Create and return a new object.  See help(type) for accurate signature.\n",
      "\n"
     ]
    }
   ],
   "source": [
    "help(roq.client.Handler)"
   ]
  },
  {
   "cell_type": "markdown",
   "metadata": {},
   "source": [
    "## A trivial implementation of the event handler interface\n",
    "\n",
    "Enable logging (see above) if you want to see each event."
   ]
  },
  {
   "cell_type": "code",
   "execution_count": 7,
   "metadata": {},
   "outputs": [],
   "source": [
    "class Strategy(roq.client.Handler):\n",
    "    \"\"\"\n",
    "    A simple strategy implementing the client interface.\n",
    "    \"\"\"\n",
    "\n",
    "    def __init__(\n",
    "            self,\n",
    "            account: str,\n",
    "            exchange: str,\n",
    "            symbol: str):\n",
    "        \"\"\"\n",
    "        Constructor\n",
    "        \"\"\"\n",
    "        roq.client.Handler.__init__(self)  # important! see pybind11 doc\n",
    "        self.account = account\n",
    "        self.exchange = exchange\n",
    "        self.symbol = symbol\n",
    "\n",
    "    def on_start(self):\n",
    "        \"\"\" Event handler \"\"\"\n",
    "        logging.info('on_start()')\n",
    "\n",
    "    def on_stop(self):\n",
    "        \"\"\" Event handler \"\"\"\n",
    "        logging.info('on_stop()')\n",
    "\n",
    "    def on_connection_status(\n",
    "            self,\n",
    "            source: int,\n",
    "            source_name: str,\n",
    "            connection_status: roq.ConnectionStatus):\n",
    "        \"\"\" Event handler \"\"\"\n",
    "        logging.info(\n",
    "            'on_connection_status(' \\\n",
    "                    'source=%d source_name=%s connection_status=%s)',\n",
    "            source,\n",
    "            source_name,\n",
    "            connection_status)\n",
    "        if connection_status == roq.ConnectionStatus.CONNECTED:\n",
    "            self.subscribe(\n",
    "                accounts={\n",
    "                    'A1'\n",
    "                },\n",
    "                symbols_by_exchange={\n",
    "                    self.exchange: {\n",
    "                        self.symbol\n",
    "                    }\n",
    "                },\n",
    "                source=source)\n",
    "\n",
    "    def on_batch_begin(\n",
    "            self,\n",
    "            message_info: roq.MessageInfo):\n",
    "        \"\"\" Event handler \"\"\"\n",
    "        logging.info(\n",
    "            'on_batch_begin(message_info=%s)',\n",
    "            message_info)\n",
    "\n",
    "    def on_batch_end(\n",
    "            self,\n",
    "            message_info: roq.MessageInfo):\n",
    "        \"\"\" Event handler \"\"\"\n",
    "        logging.info(\n",
    "            'on_batch_end(message_info=%s)',\n",
    "            message_info)\n",
    "\n",
    "    def on_market_data_status(\n",
    "            self,\n",
    "            message_info: roq.MessageInfo,\n",
    "            market_data_status: roq.MarketDataStatus):\n",
    "        \"\"\" Event handler \"\"\"\n",
    "        logging.info(\n",
    "            'on_market_data_status(' \\\n",
    "                    'message_info=%s market_data_status=%s)',\n",
    "            message_info,\n",
    "            market_data_status)\n",
    "\n",
    "    def on_order_manager_status(\n",
    "            self,\n",
    "            message_info: roq.MessageInfo,\n",
    "            order_manager_status: roq.OrderManagerStatus):\n",
    "        \"\"\" Event handler \"\"\"\n",
    "        logging.info(\n",
    "            'on_order_manager_status(' \\\n",
    "                    'message_info=%s order_manager_status=%s)',\n",
    "            message_info,\n",
    "            order_manager_status)\n",
    "\n",
    "    def on_download_begin(\n",
    "            self,\n",
    "            message_info: roq.MessageInfo,\n",
    "            download_begin: roq.DownloadBegin):\n",
    "        \"\"\" Event handler \"\"\"\n",
    "        logging.info(\n",
    "            'on_download_begin(message_info=%s download_begin=%s)',\n",
    "            message_info,\n",
    "            download_begin)\n",
    "\n",
    "    def on_download_end(\n",
    "            self,\n",
    "            message_info: roq.MessageInfo,\n",
    "            download_end: roq.DownloadEnd):\n",
    "        \"\"\" Event handler \"\"\"\n",
    "        logging.info(\n",
    "            'on_download_end(message_info=%s download_end=%s)',\n",
    "            message_info,\n",
    "            download_end)\n",
    "\n",
    "    def on_reference_data(\n",
    "            self,\n",
    "            message_info: roq.MessageInfo,\n",
    "            reference_data: roq.ReferenceData):\n",
    "        \"\"\" Event handler \"\"\"\n",
    "        logging.info(\n",
    "            'on_reference_data(message_info=%s reference_data=%s)',\n",
    "            message_info,\n",
    "            reference_data)\n",
    "\n",
    "    def on_market_status(\n",
    "            self,\n",
    "            message_info: roq.MessageInfo,\n",
    "            market_status: roq.MarketStatus):\n",
    "        \"\"\" Event handler \"\"\"\n",
    "        logging.info(\n",
    "            'on_market_status(message_info=%s market_status=%s)',\n",
    "            message_info,\n",
    "            market_status)\n",
    "\n",
    "    def on_session_statistics(\n",
    "            self,\n",
    "            message_info: roq.MessageInfo,\n",
    "            session_statistics: roq.SessionStatistics):\n",
    "        \"\"\" Event handler \"\"\"\n",
    "        logging.info(\n",
    "            'on_session_statistics(' \\\n",
    "                    'message_info=%s session_statistics=%s)',\n",
    "            message_info,\n",
    "            session_statistics)\n",
    "\n",
    "    def on_daily_statistics(\n",
    "            self,\n",
    "            message_info: roq.MessageInfo,\n",
    "            daily_statistics: roq.DailyStatistics):\n",
    "        \"\"\" Event handler \"\"\"\n",
    "        logging.info(\n",
    "            'on_daily_statistics(message_info=%s daily_statistics=%s)',\n",
    "            message_info,\n",
    "            daily_statistics)\n",
    "\n",
    "    # on_market_by_price\n",
    "\n",
    "    def on_trade_summary(\n",
    "            self,\n",
    "            message_info: roq.MessageInfo,\n",
    "            trade_summary: roq.TradeSummary):\n",
    "        \"\"\" Event handler \"\"\"\n",
    "        logging.info(\n",
    "            'on_trade_summary(message_info=%s trade_summary=%s)',\n",
    "            message_info,\n",
    "            trade_summary)\n",
    "\n",
    "    def on_position_update(\n",
    "            self,\n",
    "            message_info: roq.MessageInfo,\n",
    "            position_update: roq.PositionUpdate):\n",
    "        \"\"\" Event handler \"\"\"\n",
    "        logging.info(\n",
    "            'on_position_update(message_info=%s position_update=%s)',\n",
    "            message_info,\n",
    "            position_update)\n",
    "\n",
    "    def on_order_update(\n",
    "            self,\n",
    "            message_info: roq.MessageInfo,\n",
    "            order_update: roq.OrderUpdate):\n",
    "        \"\"\" Event handler \"\"\"\n",
    "        logging.info(\n",
    "            'on_order_update(message_info=%s order_update=%s)',\n",
    "            message_info,\n",
    "            order_update)\n",
    "\n",
    "    def on_trade_update(\n",
    "            self,\n",
    "            message_info: roq.MessageInfo,\n",
    "            trade_update: roq.TradeUpdate):\n",
    "        \"\"\" Event handler \"\"\"\n",
    "        logging.info(\n",
    "            'on_trade_update(message_info=%s trade_update=%s)',\n",
    "            message_info,\n",
    "            trade_update)\n",
    "\n",
    "    def on_create_order_ack(\n",
    "            self,\n",
    "            message_info: roq.MessageInfo,\n",
    "            create_order_ack: roq.CreateOrderAck):\n",
    "        \"\"\" Event handler \"\"\"\n",
    "        logging.info(\n",
    "            'on_create_order_ack(message_info=%s create_order_ack=%s)',\n",
    "            message_info,\n",
    "            create_order_ack)\n",
    "\n",
    "    def on_modify_order_ack(\n",
    "            self,\n",
    "            message_info: roq.MessageInfo,\n",
    "            modify_order_ack: roq.ModifyOrderAck):\n",
    "        \"\"\" Event handler \"\"\"\n",
    "        logging.info(\n",
    "            'on_modify_order_ack(message_info=%s modify_order_ack=%s)',\n",
    "            message_info,\n",
    "            modify_order_ack)\n",
    "\n",
    "    def on_cancel_order_ack(\n",
    "            self,\n",
    "            message_info: roq.MessageInfo,\n",
    "            cancel_order_ack: roq.CancelOrderAck):\n",
    "        \"\"\" Event handler \"\"\"\n",
    "        logging.info(\n",
    "            'on_cancel_order_ack(message_info=%s cancel_order_ack=%s)',\n",
    "            message_info,\n",
    "            cancel_order_ack)"
   ]
  },
  {
   "cell_type": "markdown",
   "metadata": {},
   "source": [
    "## A simple wrapper function so we can time it"
   ]
  },
  {
   "cell_type": "code",
   "execution_count": 8,
   "metadata": {},
   "outputs": [],
   "source": [
    "def run_simulation(strategy, connections):\n",
    "    \"\"\" Simulation example.\n",
    "    \"\"\"\n",
    "    # creates an event generator object\n",
    "    generator = roq.client.Simulation.create_generator(type='csv-old', history=connections[0])\n",
    "    # creates an order matching object\n",
    "    matcher = roq.client.Simulation.create_matcher(type='simple', name='CFFEX')\n",
    "    # creates a collector\n",
    "    collector = roq.client.Simulation.create_collector(period=datetime.timedelta(seconds=1))\n",
    "    # runs the simulation\n",
    "    roq.client.Simulation(strategy, generator, matcher, collector).dispatch()\n",
    "    # done\n",
    "    return collector"
   ]
  },
  {
   "cell_type": "markdown",
   "metadata": {},
   "source": [
    "## Variables"
   ]
  },
  {
   "cell_type": "code",
   "execution_count": 9,
   "metadata": {},
   "outputs": [],
   "source": [
    "ACCOUNT = 'A1'  # not really important unless you switch to trading\n",
    "EXCHANGE = 'CFFEX'  # China Financial Futures EXchange\n",
    "SYMBOL = 'IC1803'  # the most liquid instrument (on the specific trading day)"
   ]
  },
  {
   "cell_type": "code",
   "execution_count": 10,
   "metadata": {},
   "outputs": [],
   "source": [
    "def get_data_path(filename):\n",
    "    \"\"\" Helper function to work out the full path for an installed example dataset.\n",
    "    \"\"\"\n",
    "    import os\n",
    "    CONDA_DIR = os.environ['CONDA_DIR']\n",
    "    return os.path.join(CONDA_DIR, *'share/roq/data'.split('/'), filename)"
   ]
  },
  {
   "cell_type": "code",
   "execution_count": 11,
   "metadata": {},
   "outputs": [],
   "source": [
    "HISTORY = get_data_path('USTP_Multi_20180223.csv')  # about 372k market data events (a full trading day)"
   ]
  },
  {
   "cell_type": "markdown",
   "metadata": {},
   "source": [
    "## Strategy"
   ]
  },
  {
   "cell_type": "code",
   "execution_count": 12,
   "metadata": {},
   "outputs": [],
   "source": [
    "STRATEGY = Strategy(account=ACCOUNT, exchange=EXCHANGE, symbol=SYMBOL)"
   ]
  },
  {
   "cell_type": "markdown",
   "metadata": {},
   "source": [
    "## Run the simulation..."
   ]
  },
  {
   "cell_type": "markdown",
   "metadata": {},
   "source": [
    "### ... time it"
   ]
  },
  {
   "cell_type": "code",
   "execution_count": 13,
   "metadata": {},
   "outputs": [
    {
     "name": "stdout",
     "output_type": "stream",
     "text": [
      "2.13 s ± 57 ms per loop (mean ± std. dev. of 7 runs, 1 loop each)\n"
     ]
    }
   ],
   "source": [
    "%timeit run_simulation(STRATEGY, [HISTORY,])"
   ]
  },
  {
   "cell_type": "markdown",
   "metadata": {},
   "source": [
    "### ... further analysis"
   ]
  },
  {
   "cell_type": "code",
   "execution_count": 14,
   "metadata": {},
   "outputs": [],
   "source": [
    "collector = run_simulation(STRATEGY, [HISTORY,])"
   ]
  },
  {
   "cell_type": "code",
   "execution_count": 15,
   "metadata": {},
   "outputs": [
    {
     "data": {
      "text/html": [
       "<div>\n",
       "<style scoped>\n",
       "    .dataframe tbody tr th:only-of-type {\n",
       "        vertical-align: middle;\n",
       "    }\n",
       "\n",
       "    .dataframe tbody tr th {\n",
       "        vertical-align: top;\n",
       "    }\n",
       "\n",
       "    .dataframe thead th {\n",
       "        text-align: right;\n",
       "    }\n",
       "</style>\n",
       "<table border=\"1\" class=\"dataframe\">\n",
       "  <thead>\n",
       "    <tr style=\"text-align: right;\">\n",
       "      <th></th>\n",
       "      <th></th>\n",
       "      <th>volume</th>\n",
       "    </tr>\n",
       "    <tr>\n",
       "      <th>time</th>\n",
       "      <th>price</th>\n",
       "      <th></th>\n",
       "    </tr>\n",
       "  </thead>\n",
       "  <tbody>\n",
       "    <tr>\n",
       "      <th>1519378161000000000</th>\n",
       "      <th>5830.0</th>\n",
       "      <td>20.0</td>\n",
       "    </tr>\n",
       "    <tr>\n",
       "      <th>1519378221000000000</th>\n",
       "      <th>5830.0</th>\n",
       "      <td>34.0</td>\n",
       "    </tr>\n",
       "    <tr>\n",
       "      <th>1519378222000000000</th>\n",
       "      <th>5830.0</th>\n",
       "      <td>76.0</td>\n",
       "    </tr>\n",
       "    <tr>\n",
       "      <th>1519378223000000000</th>\n",
       "      <th>5829.0</th>\n",
       "      <td>83.0</td>\n",
       "    </tr>\n",
       "    <tr>\n",
       "      <th>1519378224000000000</th>\n",
       "      <th>5829.2</th>\n",
       "      <td>90.0</td>\n",
       "    </tr>\n",
       "  </tbody>\n",
       "</table>\n",
       "</div>"
      ],
      "text/plain": [
       "                            volume\n",
       "time                price         \n",
       "1519378161000000000 5830.0    20.0\n",
       "1519378221000000000 5830.0    34.0\n",
       "1519378222000000000 5830.0    76.0\n",
       "1519378223000000000 5829.0    83.0\n",
       "1519378224000000000 5829.2    90.0"
      ]
     },
     "execution_count": 15,
     "metadata": {},
     "output_type": "execute_result"
    }
   ],
   "source": [
    "trade_volume = collector.extract(exchange=EXCHANGE, symbol=SYMBOL, type=\"trade_volume\")\n",
    "trade_volume.head()"
   ]
  },
  {
   "cell_type": "code",
   "execution_count": 16,
   "metadata": {},
   "outputs": [
    {
     "data": {
      "text/html": [
       "<div>\n",
       "<style scoped>\n",
       "    .dataframe tbody tr th:only-of-type {\n",
       "        vertical-align: middle;\n",
       "    }\n",
       "\n",
       "    .dataframe tbody tr th {\n",
       "        vertical-align: top;\n",
       "    }\n",
       "\n",
       "    .dataframe thead th {\n",
       "        text-align: right;\n",
       "    }\n",
       "</style>\n",
       "<table border=\"1\" class=\"dataframe\">\n",
       "  <thead>\n",
       "    <tr style=\"text-align: right;\">\n",
       "      <th></th>\n",
       "      <th></th>\n",
       "      <th>quantity</th>\n",
       "    </tr>\n",
       "    <tr>\n",
       "      <th>time</th>\n",
       "      <th>price</th>\n",
       "      <th></th>\n",
       "    </tr>\n",
       "  </thead>\n",
       "  <tbody>\n",
       "    <tr>\n",
       "      <th rowspan=\"10\" valign=\"top\">1519378161000000000</th>\n",
       "      <th>5836.0</th>\n",
       "      <td>-1.0</td>\n",
       "    </tr>\n",
       "    <tr>\n",
       "      <th>5837.8</th>\n",
       "      <td>-1.0</td>\n",
       "    </tr>\n",
       "    <tr>\n",
       "      <th>5831.0</th>\n",
       "      <td>-1.0</td>\n",
       "    </tr>\n",
       "    <tr>\n",
       "      <th>5821.2</th>\n",
       "      <td>1.0</td>\n",
       "    </tr>\n",
       "    <tr>\n",
       "      <th>5825.0</th>\n",
       "      <td>1.0</td>\n",
       "    </tr>\n",
       "    <tr>\n",
       "      <th>5834.0</th>\n",
       "      <td>-5.0</td>\n",
       "    </tr>\n",
       "    <tr>\n",
       "      <th>5820.4</th>\n",
       "      <td>1.0</td>\n",
       "    </tr>\n",
       "    <tr>\n",
       "      <th>5820.0</th>\n",
       "      <td>1.0</td>\n",
       "    </tr>\n",
       "    <tr>\n",
       "      <th>5819.2</th>\n",
       "      <td>1.0</td>\n",
       "    </tr>\n",
       "    <tr>\n",
       "      <th>5830.0</th>\n",
       "      <td>-8.0</td>\n",
       "    </tr>\n",
       "    <tr>\n",
       "      <th rowspan=\"10\" valign=\"top\">1519378221000000000</th>\n",
       "      <th>5836.0</th>\n",
       "      <td>-2.0</td>\n",
       "    </tr>\n",
       "    <tr>\n",
       "      <th>5834.0</th>\n",
       "      <td>-5.0</td>\n",
       "    </tr>\n",
       "    <tr>\n",
       "      <th>5829.0</th>\n",
       "      <td>5.0</td>\n",
       "    </tr>\n",
       "    <tr>\n",
       "      <th>5836.8</th>\n",
       "      <td>-5.0</td>\n",
       "    </tr>\n",
       "    <tr>\n",
       "      <th>5830.0</th>\n",
       "      <td>3.0</td>\n",
       "    </tr>\n",
       "    <tr>\n",
       "      <th>5823.0</th>\n",
       "      <td>5.0</td>\n",
       "    </tr>\n",
       "    <tr>\n",
       "      <th>5825.0</th>\n",
       "      <td>6.0</td>\n",
       "    </tr>\n",
       "    <tr>\n",
       "      <th>5824.0</th>\n",
       "      <td>5.0</td>\n",
       "    </tr>\n",
       "    <tr>\n",
       "      <th>5837.8</th>\n",
       "      <td>-1.0</td>\n",
       "    </tr>\n",
       "    <tr>\n",
       "      <th>5831.0</th>\n",
       "      <td>-1.0</td>\n",
       "    </tr>\n",
       "  </tbody>\n",
       "</table>\n",
       "</div>"
      ],
      "text/plain": [
       "                            quantity\n",
       "time                price           \n",
       "1519378161000000000 5836.0      -1.0\n",
       "                    5837.8      -1.0\n",
       "                    5831.0      -1.0\n",
       "                    5821.2       1.0\n",
       "                    5825.0       1.0\n",
       "                    5834.0      -5.0\n",
       "                    5820.4       1.0\n",
       "                    5820.0       1.0\n",
       "                    5819.2       1.0\n",
       "                    5830.0      -8.0\n",
       "1519378221000000000 5836.0      -2.0\n",
       "                    5834.0      -5.0\n",
       "                    5829.0       5.0\n",
       "                    5836.8      -5.0\n",
       "                    5830.0       3.0\n",
       "                    5823.0       5.0\n",
       "                    5825.0       6.0\n",
       "                    5824.0       5.0\n",
       "                    5837.8      -1.0\n",
       "                    5831.0      -1.0"
      ]
     },
     "execution_count": 16,
     "metadata": {},
     "output_type": "execute_result"
    }
   ],
   "source": [
    "market_by_price = collector.extract(exchange=EXCHANGE, symbol=SYMBOL, type=\"market_by_price\")\n",
    "market_by_price.head(20)"
   ]
  },
  {
   "cell_type": "markdown",
   "metadata": {},
   "source": [
    "### ... some charts"
   ]
  },
  {
   "cell_type": "code",
   "execution_count": 17,
   "metadata": {},
   "outputs": [],
   "source": [
    "def plot_data(trade_volume, market_by_price):\n",
    "    import matplotlib as mpl\n",
    "    import matplotlib.pyplot as plt\n",
    "    fig, ax = plt.subplots(figsize=(16,10))\n",
    "    tmp = market_by_price.reset_index().pivot(index='time', columns='price', values='quantity').fillna(method='ffill')\n",
    "    ax.pcolor(tmp.index, tmp.columns, tmp.transpose(),\n",
    "              alpha=0.25, cmap=mpl.cm.get_cmap('PiYG'))\n",
    "    trade_volume.reset_index().plot(x='time', y='price',\n",
    "                                    kind='scatter', marker='.', linewidths=2, edgecolors='black',\n",
    "                                    ax=ax)\n",
    "    fig.tight_layout()\n",
    "    plt.show()"
   ]
  },
  {
   "cell_type": "code",
   "execution_count": 18,
   "metadata": {},
   "outputs": [],
   "source": [
    "def get_range(df, idx_0, idx_1):\n",
    "    tmp = df.index.get_level_values(0)[idx_0:idx_1]\n",
    "    return (tmp[0], tmp[-1])"
   ]
  },
  {
   "cell_type": "code",
   "execution_count": 19,
   "metadata": {},
   "outputs": [
    {
     "data": {
      "text/plain": [
       "(1519378292000000000, 1519378625000000000)"
      ]
     },
     "execution_count": 19,
     "metadata": {},
     "output_type": "execute_result"
    }
   ],
   "source": [
    "time_0, time_1 = get_range(trade_volume, 100, 500)\n",
    "time_0, time_1"
   ]
  },
  {
   "cell_type": "code",
   "execution_count": 20,
   "metadata": {},
   "outputs": [],
   "source": [
    "def select_subset(df, time_0, time_1):\n",
    "    import numpy as np\n",
    "    include = np.logical_and(\n",
    "        df.index.get_level_values(0) >= time_0,\n",
    "        df.index.get_level_values(0) <= time_1)\n",
    "    return df[include]"
   ]
  },
  {
   "cell_type": "code",
   "execution_count": 21,
   "metadata": {},
   "outputs": [
    {
     "data": {
      "image/png": "[encoded data removed]",
      "text/plain": [
       "<Figure size 1152x720 with 1 Axes>"
      ]
     },
     "metadata": {
      "needs_background": "light"
     },
     "output_type": "display_data"
    }
   ],
   "source": [
    "plot_data(\n",
    "    select_subset(trade_volume, time_0, time_1),\n",
    "    select_subset(market_by_price, time_0, time_1))"
   ]
  },
  {
   "cell_type": "markdown",
   "metadata": {},
   "source": [
    "## Ideas..."
   ]
  },
  {
   "cell_type": "code",
   "execution_count": 22,
   "metadata": {},
   "outputs": [],
   "source": [
    "import numpy as np"
   ]
  },
  {
   "cell_type": "code",
   "execution_count": 23,
   "metadata": {},
   "outputs": [],
   "source": [
    "time_range = np.array([\n",
    "    datetime.datetime(2019, 5, 8, 12, 0),\n",
    "    datetime.datetime(2019, 5, 8, 12, 5),\n",
    "    datetime.datetime(2019, 5, 8, 12, 6),\n",
    "])"
   ]
  },
  {
   "cell_type": "code",
   "execution_count": 24,
   "metadata": {},
   "outputs": [],
   "source": [
    "price_range = np.array([9, 10, 11])"
   ]
  },
  {
   "cell_type": "code",
   "execution_count": 25,
   "metadata": {},
   "outputs": [],
   "source": [
    "labels = [\n",
    "    ('trade_summary', 'price'),\n",
    "    ('trade_summary', 'price'),\n",
    "    ('trade_summary', 'side'),\n",
    "    ('best_bid_ask', 'bid'),\n",
    "    ('best_bid_ask', 'ask'),\n",
    "    ('market_by_price', 'price_0'),\n",
    "    ('market_by_price', 'price_N'),\n",
    "]"
   ]
  },
  {
   "cell_type": "code",
   "execution_count": 26,
   "metadata": {},
   "outputs": [],
   "source": [
    "# get_time_range (M)\n",
    "time = np.array([\n",
    "    datetime.datetime(2019, 5, 8, 12, 0),\n",
    "    datetime.datetime(2019, 5, 8, 12, 5),\n",
    "    datetime.datetime(2019, 5, 8, 12, 6),\n",
    "])\n",
    "# get_price_range (N)\n",
    "price = np.array([9, 10, 11])\n",
    "# get_market_by_price (NxM)\n",
    "market_by_price = np.array([\n",
    "    [100, 100, 100],  # px=9\n",
    "    [80, 81, 82],  # px=10\n",
    "    [90, 100, 95],  # px=11\n",
    "])\n",
    "# get_best_bid_ask (2xM)\n",
    "best_bid_ask = np.array([\n",
    "    [9, 10, 9],  # bid\n",
    "    [10, 11, 10],  # ask\n",
    "])\n",
    "\n",
    "time_3 = time[1:]\n",
    "# get_trade_summary (3xM)\n",
    "trade_summary = np.array([\n",
    "    [ 10, 10 ],  # px\n",
    "    [ 10, 1 ],  # qt\n",
    "    [ 1, 2 ]  # side\n",
    "])\n",
    "\n",
    "\n",
    "tick_size = 1"
   ]
  },
  {
   "cell_type": "code",
   "execution_count": 27,
   "metadata": {},
   "outputs": [],
   "source": [
    "import matplotlib as mpl\n",
    "import matplotlib.pyplot as plt"
   ]
  },
  {
   "cell_type": "code",
   "execution_count": 28,
   "metadata": {},
   "outputs": [
    {
     "data": {
      "image/png": "[encoded data removed]",
      "text/plain": [
       "<Figure size 432x288 with 1 Axes>"
      ]
     },
     "metadata": {
      "needs_background": "light"
     },
     "output_type": "display_data"
    }
   ],
   "source": [
    "fig, ax1 = plt.subplots()\n",
    "\n",
    "cmap_2 = mpl.cm.get_cmap('Set1')\n",
    "cmap = mpl.colors.ListedColormap([cmap_2(2), cmap_2(0), cmap_2(1)])\n",
    "\n",
    "time_2 = np.append(time, time[-1] + (time[-1] - time[-2]))\n",
    "price_2 = np.append(price, price[-1] + tick_size)\n",
    "\n",
    "ax1.pcolormesh(time_2, price_2 - 0.5 * tick_size, market_by_price, alpha=0.25,\n",
    "              cmap=mpl.cm.get_cmap('gist_gray'))\n",
    "\n",
    "for idx, px in enumerate(best_bid_ask):\n",
    "    ax1.step(time, px, where='post', color=cmap(idx))\n",
    "\n",
    "ax1.scatter(time_3, trade_summary[0], s=trade_summary[1]*100,\n",
    "           c=trade_summary[2] + 1,\n",
    "           cmap=cmap)\n",
    "\n",
    "fig.tight_layout()\n",
    "plt.show()"
   ]
  },
  {
   "cell_type": "code",
   "execution_count": null,
   "metadata": {},
   "outputs": [],
   "source": []
  }
 ],
 "metadata": {
  "kernelspec": {
   "display_name": "Python 3",
   "language": "python",
   "name": "python3"
  },
  "language_info": {
   "codemirror_mode": {
    "name": "ipython",
    "version": 3
   },
   "file_extension": ".py",
   "mimetype": "text/x-python",
   "name": "python",
   "nbconvert_exporter": "python",
   "pygments_lexer": "ipython3",
   "version": "3.7.3"
  }
 },
 "nbformat": 4,
 "nbformat_minor": 2
}
